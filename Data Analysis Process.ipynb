{
 "cells": [
  {
   "cell_type": "markdown",
   "id": "19acf672",
   "metadata": {},
   "source": [
    "## Data Analysis Again?\n",
    "\n",
    "Data Analysis is a process of collecting, transforming, cleaning, and modeling data with the goal of discovering the required information. The results so obtained are communicated, suggesting conclusions, and supporting decision-making. Data visualization is at times used to portray the data for the ease of discovering the useful patterns in the data.\n",
    "\n",
    "To effectively carry out data analysis task, industry analyst often utilize tested and proven step-by-step process that helps them achieve the desired result (get meaningful insights). Data Analysis Process consists of the following phases that are iterative in nature: \n",
    "\n",
    "1. Determine the Objective.\n",
    "2. Collect Data.\n",
    "3. Process Data.\n",
    "4. Analyze Data.\n",
    "5. Intepret and Share Result.\n",
    "6. Review and Improve."
   ]
  },
  {
   "cell_type": "markdown",
   "id": "90c7e152",
   "metadata": {},
   "source": [
    "## Determine Objective:\n",
    "\n",
    "The most rewarding data analysis projects are those that are based on a question or an experiment. In the world of data analytics, defining or determining your objective is often referred to as defining the ‘problem statement’. In addition to defining a problem statement and finding a purpose, it is also necessary at this point to consider which metrics to track along the way. Also, be sure to identify sources of data when it’s time to collect.\n",
    "\n",
    "The problem statement typically stems from a business problem or question. Therefore, before embarking on any analysis project, a data analyst must ask: 'what business problem am I trying to solve?' \n",
    "\n",
    "Some sample problem statements are:\n",
    "* How can we reduce production costs without sacrificing quality?\n",
    "* What are some ways to increase sales opportunities with our current resources?\n",
    "* Do customers see our brand positively?\n",
    "* Why are there long queues in the shop every friday?\n",
    "\n",
    "In this phase of the data analysis process, a data analyst’s main job is to understand the business and its goals in enough depth so as to be able to comprehend the root of an issue and frame the problem the right way."
   ]
  },
  {
   "cell_type": "markdown",
   "id": "028f907f",
   "metadata": {},
   "source": [
    "### Sample Example:\n",
    "\n",
    "Suppose you are employed as a Data Analyst by EazyGrace Superstores (a supermarket and sales outlets). The management suspects that while new customers patronize it but the number of customers that visit a second time to shop is very low.\n",
    "\n",
    "As such, some good questions to ask could include:\n",
    "* Which factors negatively impact customer experience that makes them not want to visit a second time?\n",
    "* What incentives can boost customer retention while minimizing running costs?\n",
    "\n",
    "The above questions are more productive and explain business needs more than a generic wuestion like \"Why is EazyGrace Superstores losing customers?\""
   ]
  },
  {
   "cell_type": "markdown",
   "id": "995f720a",
   "metadata": {},
   "source": [
    "## Collect Data:\n",
    "\n",
    "Based on the objective defined, the next step in the data analysis process is to create a strategy for collecting and aggregating the right and appropriate data. For our sample objective above, we could decide to create a strategy on how to collect shopping experience review from customers. \n",
    "\n",
    "Data that is collected may fit into one of three categories: \n",
    "* first-party: data that you, or your organization collected directly from customers. This kind of data is usually structured and organized in a clear, defined way. Examples of ways to get first-party data include customer satisfaction surveys, focus groups, interviews, or direct observation.\n",
    "\n",
    "* second-party: The set of data collected or gathered from other companies are what we refer to as second-party data. It can include data from similar sources as first party data like website activity, customer surveys, social media activity etc. The obvious difference is the channel of getting it (from other companies).\n",
    "\n",
    "* third-party: This is data that has been gathered and separated via multiple sources through a third party organisation. They are often largely unstructured and collected via many companies for generating industry reports and for conducting marketing analytics and research. Examples of this data include, email address, postal address, phone numbers, social media handles, purchase history, website browsing activities of the customers, Open data repositories and government portals. "
   ]
  },
  {
   "cell_type": "markdown",
   "id": "bb64e828",
   "metadata": {},
   "source": [
    "## Process Data:\n",
    "\n",
    "Once data has been gathered, the next step is getting it ready for analysis. To ensure that you have high-quality data to work with, will require you to process the data into a form that guarantee such quality. Doing this often involve cleaning, or ‘scrubbing’ it. Some important and major processing (cleaning) steps to be carried out include:\n",
    "* Expunging errors, duplicates, and other outliers.\n",
    "* Dropping unwanted data points.\n",
    "* Structuring your data—general (combining data, slicing data, etc)\n",
    "* Engineering new data points from existing ones to meet analysis requirement.\n",
    "\n",
    "It is often said that data analyst spend around 70-90% of their time cleaning their data. This is very important because focusing on the wrong data points (or analyzing erroneous data) will severely impact your results. "
   ]
  },
  {
   "cell_type": "markdown",
   "id": "97a51e37",
   "metadata": {},
   "source": [
    "## Analyze Data\n",
    "\n",
    "As a data analyst, you are getting deep into business with this step of the data analysis process. After processing your data, the next major step is to perform exploratory analysis on your ready data. I refer to this step as interogating your data for insights. \n",
    "\n",
    "Exploration of your data helps you identify trends and patterns that either match the stated objective or helps you refine your hypothesis. Recall our sample example, it may be possible that during your exploratory analysis, you notice that there is a correlation between sales clerk attitude and customers not returning subsequently. This finding suggest that a low-quality customer experience (one of the earlier assumption) is actually an issue. \n",
    "\n",
    "There are several ways to explore and analyze your data, they include:\n",
    "\n",
    "1. Descriptive analysis: \n",
    "\n",
    "Descriptive analysis communicates what has already happened. This is often the first step analyst begin with before proceeding with deeper explorations. As an example, for our EazyGrace analysis, we might use descriptive analytics to analyze the number of customers patronizing their outlet during a certain period. Also, descriptive analysis can be used to measure sales figures over a given period of time. While the company might not draw firm conclusions from any of these insights, summarizing and describing the data will help them to determine how to proceed.\n",
    "\n",
    "2. Diagnostic analysis:\n",
    "\n",
    "Diagnostic analytics is concerned with gaining an understanding of why something has happened. It is simply the diagnosis of a problem. The sample business problem (which factors negatively impact customer experience that makes them not want to visit a second time?) could help the firm draw correlations between the issue (customers not revisiting the supermarket ) and factors that might be causing it. Using diagnostic analysis, EazyGrace might discover that they are having less number of repeat visit by customers during a given season of the year which could suggest that they’re losing repeat purchases because they may lack appropriate products that customers require during a given period. \n",
    "\n",
    "3. Predictive analysis:\n",
    "\n",
    "Using predictive analysis, an analyst can be able to identify future trends based on historical data. The identified trends can then be used to forecast future growth. For example, EazyGrace Superstores may use predictive analysis to plan for certain period of the year when demand (customer purchasing pattern) changes. The evolution and improvement of machine learning as a field allows for more accurate forecasts.\n",
    "\n",
    "4. Prescriptive analysis:\n",
    "\n",
    "Prescriptive analysis allows an analyst to make recommendations for the future. This is basically the final step in the analyze phase of the data analysis process and can be complex because it combines aspects of the other phases. Using prescriptive analytics, EazyGrace Superstores may decide to install new heating systems during the winter period as it seems customer revisit is less during that time."
   ]
  },
  {
   "cell_type": "markdown",
   "id": "dd5f3109",
   "metadata": {},
   "source": []
  },
  {
   "cell_type": "markdown",
   "id": "d3d0b9aa",
   "metadata": {},
   "source": []
  }
 ],
 "metadata": {
  "kernelspec": {
   "display_name": "Python 3.9.7 ('base')",
   "language": "python",
   "name": "python3"
  },
  "language_info": {
   "codemirror_mode": {
    "name": "ipython",
    "version": 3
   },
   "file_extension": ".py",
   "mimetype": "text/x-python",
   "name": "python",
   "nbconvert_exporter": "python",
   "pygments_lexer": "ipython3",
   "version": "3.9.7"
  },
  "vscode": {
   "interpreter": {
    "hash": "c536b6d285c7bc8b344c6b60e77e72d5632380ee410af48285984064952925ae"
   }
  }
 },
 "nbformat": 4,
 "nbformat_minor": 5
}
