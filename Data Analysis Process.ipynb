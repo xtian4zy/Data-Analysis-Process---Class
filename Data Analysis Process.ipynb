{
 "cells": [
  {
   "cell_type": "markdown",
   "id": "19acf672",
   "metadata": {},
   "source": [
    "## Data Analysis Again?\n",
    "\n",
    "Data Analysis is a process of collecting, transforming, cleaning, and modeling data with the goal of discovering the required information. The results so obtained are communicated, suggesting conclusions, and supporting decision-making. Data visualization is at times used to portray the data for the ease of discovering the useful patterns in the data.\n",
    "\n",
    "To effectively carry out data analysis task, industry analyst often utilize tested and proven step-by-step process that helps them achieve the desired result (get meaningful insights). Data Analysis Process consists of the following phases that are iterative in nature: \n",
    "\n",
    "1. Determine the Objective.\n",
    "2. Collect Data.\n",
    "3. Process Data.\n",
    "4. Analyze Data.\n",
    "5. Intepret and Share Result.\n",
    "6. Review and Improve."
   ]
  },
  {
   "cell_type": "markdown",
   "id": "90c7e152",
   "metadata": {},
   "source": [
    "## Determine Objective:\n",
    "\n",
    "The most rewarding data analysis projects are those that are based on a question or an experiment. In the world of data analytics, defining or determining your objective is often referred to as defining the ‘problem statement’. In addition to defining a problem statement and finding a purpose, it is also necessary at this point to consider which metrics to track along the way. Also, be sure to identify sources of data when it’s time to collect.\n",
    "\n",
    "The problem statement typically stems from a business problem or question. Therefore, before embarking on any analysis project, a data analyst must ask: 'what business problem am I trying to solve?' \n",
    "\n",
    "Some sample problem statements are:\n",
    "* How can we reduce production costs without sacrificing quality?\n",
    "* What are some ways to increase sales opportunities with our current resources?\n",
    "* Do customers see our brand positively?\n",
    "* Why are there long queues in the shop every friday?\n",
    "\n",
    "In this phase of the data analysis process, a data analyst’s main job is to understand the business and its goals in enough depth so as to be able to comprehend the root of an issue and frame the problem the right way."
   ]
  },
  {
   "cell_type": "markdown",
   "id": "028f907f",
   "metadata": {},
   "source": [
    "### Sample Example:\n",
    "\n",
    "Suppose you are employed as a Data Analyst by EazyGrace Superstores (a supermarket and sales outlets). The management suspects that while new customers patronize it but the number of customers that visit a second time to shop is very low.\n",
    "\n",
    "As such, some good questions to ask could include:\n",
    "* Which factors negatively impact customer experience that makes them not want to visit a second time?\n",
    "* What incentives can boost customer retention while minimizing running costs?\n",
    "\n",
    "The above questions are more productive and explain business needs more than a generic wuestion like \"Why is EazyGrace Superstores losing customers?\""
   ]
  },
  {
   "cell_type": "markdown",
   "id": "995f720a",
   "metadata": {},
   "source": [
    "## Collect Data:\n",
    "\n",
    "Based on the objective defined, the next step in the data analysis process is to create a strategy for collecting and aggregating the right and appropriate data. For our sample objective above, we could decide to create a strategy on how to collect shopping experience review from customers. \n",
    "\n",
    "Data that is collected may fit into one of three categories: \n",
    "* first-party: data that you, or your organization collected directly from customers. This kind of data is usually structured and organized in a clear, defined way. Examples of ways to get first-party data include customer satisfaction surveys, focus groups, interviews, or direct observation.\n",
    "\n",
    "* second-party\n",
    "* third-party data"
   ]
  }
 ],
 "metadata": {
  "kernelspec": {
   "display_name": "Python 3 (ipykernel)",
   "language": "python",
   "name": "python3"
  },
  "language_info": {
   "codemirror_mode": {
    "name": "ipython",
    "version": 3
   },
   "file_extension": ".py",
   "mimetype": "text/x-python",
   "name": "python",
   "nbconvert_exporter": "python",
   "pygments_lexer": "ipython3",
   "version": "3.9.7"
  }
 },
 "nbformat": 4,
 "nbformat_minor": 5
}
